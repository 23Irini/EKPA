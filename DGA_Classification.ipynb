{
  "nbformat": 4,
  "nbformat_minor": 0,
  "metadata": {
    "colab": {
      "name": "Untitled7.ipynb",
      "provenance": [],
      "authorship_tag": "ABX9TyO2C9fdeDa5iNJVNSh1W244",
      "include_colab_link": true
    },
    "kernelspec": {
      "name": "python3",
      "display_name": "Python 3"
    },
    "widgets": {
      "application/vnd.jupyter.widget-state+json": {
        "93e35f66c4f34026be674886166a455c": {
          "model_module": "@jupyter-widgets/controls",
          "model_name": "VBoxModel",
          "model_module_version": "1.5.0",
          "state": {
            "_dom_classes": [
              "widget-interact"
            ],
            "_model_module": "@jupyter-widgets/controls",
            "_model_module_version": "1.5.0",
            "_model_name": "VBoxModel",
            "_view_count": null,
            "_view_module": "@jupyter-widgets/controls",
            "_view_module_version": "1.5.0",
            "_view_name": "VBoxView",
            "box_style": "",
            "children": [
              "IPY_MODEL_7dc1a4d4a5d84b96a488dd6c721f8148",
              "IPY_MODEL_e46d92f34021443da58f1a6f167ba831"
            ],
            "layout": "IPY_MODEL_a7873416c07d4060afce8fca3bf60d4f"
          }
        },
        "7dc1a4d4a5d84b96a488dd6c721f8148": {
          "model_module": "@jupyter-widgets/controls",
          "model_name": "ToggleButtonsModel",
          "model_module_version": "1.5.0",
          "state": {
            "_dom_classes": [],
            "_model_module": "@jupyter-widgets/controls",
            "_model_module_version": "1.5.0",
            "_model_name": "ToggleButtonsModel",
            "_options_labels": [
              "Pipeline Plot",
              "Hyperparameters",
              "AUC",
              "Confusion Matrix",
              "Threshold",
              "Precision Recall",
              "Prediction Error",
              "Class Report",
              "Feature Selection",
              "Learning Curve",
              "Manifold Learning",
              "Calibration Curve",
              "Validation Curve",
              "Dimensions",
              "Feature Importance",
              "Feature Importance (All)",
              "Decision Boundary",
              "Lift Chart",
              "Gain Chart",
              "Decision Tree",
              "KS Statistic Plot"
            ],
            "_view_count": null,
            "_view_module": "@jupyter-widgets/controls",
            "_view_module_version": "1.5.0",
            "_view_name": "ToggleButtonsView",
            "button_style": "",
            "description": "Plot Type:",
            "description_tooltip": null,
            "disabled": false,
            "icons": [
              ""
            ],
            "index": 3,
            "layout": "IPY_MODEL_307b67afdd1f4ffc94321606aad935c7",
            "style": "IPY_MODEL_90b02461749e447484aca4baa13d66d3",
            "tooltips": []
          }
        },
        "e46d92f34021443da58f1a6f167ba831": {
          "model_module": "@jupyter-widgets/output",
          "model_name": "OutputModel",
          "model_module_version": "1.0.0",
          "state": {
            "_dom_classes": [],
            "_model_module": "@jupyter-widgets/output",
            "_model_module_version": "1.0.0",
            "_model_name": "OutputModel",
            "_view_count": null,
            "_view_module": "@jupyter-widgets/output",
            "_view_module_version": "1.0.0",
            "_view_name": "OutputView",
            "layout": "IPY_MODEL_37b9a571c0094851a0c3cad76cc1d01c",
            "msg_id": "",
            "outputs": [
              {
                "output_type": "display_data",
                "data": {
                  "text/plain": "<Figure size 800x550 with 1 Axes>",
                  "image/png": "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\n"
                },
                "metadata": {}
              }
            ]
          }
        },
        "a7873416c07d4060afce8fca3bf60d4f": {
          "model_module": "@jupyter-widgets/base",
          "model_name": "LayoutModel",
          "model_module_version": "1.2.0",
          "state": {
            "_model_module": "@jupyter-widgets/base",
            "_model_module_version": "1.2.0",
            "_model_name": "LayoutModel",
            "_view_count": null,
            "_view_module": "@jupyter-widgets/base",
            "_view_module_version": "1.2.0",
            "_view_name": "LayoutView",
            "align_content": null,
            "align_items": null,
            "align_self": null,
            "border": null,
            "bottom": null,
            "display": null,
            "flex": null,
            "flex_flow": null,
            "grid_area": null,
            "grid_auto_columns": null,
            "grid_auto_flow": null,
            "grid_auto_rows": null,
            "grid_column": null,
            "grid_gap": null,
            "grid_row": null,
            "grid_template_areas": null,
            "grid_template_columns": null,
            "grid_template_rows": null,
            "height": null,
            "justify_content": null,
            "justify_items": null,
            "left": null,
            "margin": null,
            "max_height": null,
            "max_width": null,
            "min_height": null,
            "min_width": null,
            "object_fit": null,
            "object_position": null,
            "order": null,
            "overflow": null,
            "overflow_x": null,
            "overflow_y": null,
            "padding": null,
            "right": null,
            "top": null,
            "visibility": null,
            "width": null
          }
        },
        "307b67afdd1f4ffc94321606aad935c7": {
          "model_module": "@jupyter-widgets/base",
          "model_name": "LayoutModel",
          "model_module_version": "1.2.0",
          "state": {
            "_model_module": "@jupyter-widgets/base",
            "_model_module_version": "1.2.0",
            "_model_name": "LayoutModel",
            "_view_count": null,
            "_view_module": "@jupyter-widgets/base",
            "_view_module_version": "1.2.0",
            "_view_name": "LayoutView",
            "align_content": null,
            "align_items": null,
            "align_self": null,
            "border": null,
            "bottom": null,
            "display": null,
            "flex": null,
            "flex_flow": null,
            "grid_area": null,
            "grid_auto_columns": null,
            "grid_auto_flow": null,
            "grid_auto_rows": null,
            "grid_column": null,
            "grid_gap": null,
            "grid_row": null,
            "grid_template_areas": null,
            "grid_template_columns": null,
            "grid_template_rows": null,
            "height": null,
            "justify_content": null,
            "justify_items": null,
            "left": null,
            "margin": null,
            "max_height": null,
            "max_width": null,
            "min_height": null,
            "min_width": null,
            "object_fit": null,
            "object_position": null,
            "order": null,
            "overflow": null,
            "overflow_x": null,
            "overflow_y": null,
            "padding": null,
            "right": null,
            "top": null,
            "visibility": null,
            "width": null
          }
        },
        "90b02461749e447484aca4baa13d66d3": {
          "model_module": "@jupyter-widgets/controls",
          "model_name": "ToggleButtonsStyleModel",
          "model_module_version": "1.5.0",
          "state": {
            "_model_module": "@jupyter-widgets/controls",
            "_model_module_version": "1.5.0",
            "_model_name": "ToggleButtonsStyleModel",
            "_view_count": null,
            "_view_module": "@jupyter-widgets/base",
            "_view_module_version": "1.2.0",
            "_view_name": "StyleView",
            "button_width": "",
            "description_width": "",
            "font_weight": ""
          }
        },
        "37b9a571c0094851a0c3cad76cc1d01c": {
          "model_module": "@jupyter-widgets/base",
          "model_name": "LayoutModel",
          "model_module_version": "1.2.0",
          "state": {
            "_model_module": "@jupyter-widgets/base",
            "_model_module_version": "1.2.0",
            "_model_name": "LayoutModel",
            "_view_count": null,
            "_view_module": "@jupyter-widgets/base",
            "_view_module_version": "1.2.0",
            "_view_name": "LayoutView",
            "align_content": null,
            "align_items": null,
            "align_self": null,
            "border": null,
            "bottom": null,
            "display": null,
            "flex": null,
            "flex_flow": null,
            "grid_area": null,
            "grid_auto_columns": null,
            "grid_auto_flow": null,
            "grid_auto_rows": null,
            "grid_column": null,
            "grid_gap": null,
            "grid_row": null,
            "grid_template_areas": null,
            "grid_template_columns": null,
            "grid_template_rows": null,
            "height": null,
            "justify_content": null,
            "justify_items": null,
            "left": null,
            "margin": null,
            "max_height": null,
            "max_width": null,
            "min_height": null,
            "min_width": null,
            "object_fit": null,
            "object_position": null,
            "order": null,
            "overflow": null,
            "overflow_x": null,
            "overflow_y": null,
            "padding": null,
            "right": null,
            "top": null,
            "visibility": null,
            "width": null
          }
        }
      }
    }
  },
  "cells": [
    {
      "cell_type": "markdown",
      "metadata": {
        "id": "view-in-github",
        "colab_type": "text"
      },
      "source": [
        "<a href=\"https://colab.research.google.com/github/kdemertzis/EKPA/blob/main/DGA_Classification.ipynb\" target=\"_parent\"><img src=\"https://colab.research.google.com/assets/colab-badge.svg\" alt=\"Open In Colab\"/></a>"
      ]
    },
    {
      "cell_type": "code",
      "metadata": {
        "id": "2rvGqQdY9C6s",
        "outputId": "3f891cfd-61fa-40e1-f18f-0105701c7cfa",
        "colab": {
          "base_uri": "https://localhost:8080/",
          "height": 1000
        }
      },
      "source": [
        "!pip install pycaret"
      ],
      "execution_count": 1,
      "outputs": [
        {
          "output_type": "stream",
          "name": "stdout",
          "text": [
            "Collecting pycaret\n",
            "  Downloading pycaret-3.2.0-py3-none-any.whl (484 kB)\n",
            "\u001b[2K     \u001b[90m━━━━━━━━━━━━━━━━━━━━━━━━━━━━━━━━━━━━━━━━\u001b[0m \u001b[32m484.7/484.7 kB\u001b[0m \u001b[31m4.2 MB/s\u001b[0m eta \u001b[36m0:00:00\u001b[0m\n",
            "\u001b[?25hCollecting category-encoders>=2.4.0 (from pycaret)\n",
            "  Downloading category_encoders-2.6.3-py2.py3-none-any.whl (81 kB)\n",
            "\u001b[2K     \u001b[90m━━━━━━━━━━━━━━━━━━━━━━━━━━━━━━━━━━━━━━━━\u001b[0m \u001b[32m81.9/81.9 kB\u001b[0m \u001b[31m5.5 MB/s\u001b[0m eta \u001b[36m0:00:00\u001b[0m\n",
            "\u001b[?25hRequirement already satisfied: cloudpickle in /usr/local/lib/python3.10/dist-packages (from pycaret) (2.2.1)\n",
            "Collecting deprecation>=2.1.0 (from pycaret)\n",
            "  Downloading deprecation-2.1.0-py2.py3-none-any.whl (11 kB)\n",
            "Requirement already satisfied: imbalanced-learn>=0.8.1 in /usr/local/lib/python3.10/dist-packages (from pycaret) (0.10.1)\n",
            "Requirement already satisfied: importlib-metadata>=4.12.0 in /usr/local/lib/python3.10/dist-packages (from pycaret) (7.0.0)\n",
            "Requirement already satisfied: ipython>=5.5.0 in /usr/local/lib/python3.10/dist-packages (from pycaret) (7.34.0)\n",
            "Requirement already satisfied: ipywidgets>=7.6.5 in /usr/local/lib/python3.10/dist-packages (from pycaret) (7.7.1)\n",
            "Requirement already satisfied: jinja2>=1.2 in /usr/local/lib/python3.10/dist-packages (from pycaret) (3.1.2)\n",
            "Requirement already satisfied: joblib>=1.2.0 in /usr/local/lib/python3.10/dist-packages (from pycaret) (1.3.2)\n",
            "Collecting kaleido>=0.2.1 (from pycaret)\n",
            "  Downloading kaleido-0.2.1-py2.py3-none-manylinux1_x86_64.whl (79.9 MB)\n",
            "\u001b[2K     \u001b[90m━━━━━━━━━━━━━━━━━━━━━━━━━━━━━━━━━━━━━━━━\u001b[0m \u001b[32m79.9/79.9 MB\u001b[0m \u001b[31m8.7 MB/s\u001b[0m eta \u001b[36m0:00:00\u001b[0m\n",
            "\u001b[?25hRequirement already satisfied: lightgbm>=3.0.0 in /usr/local/lib/python3.10/dist-packages (from pycaret) (4.1.0)\n",
            "Requirement already satisfied: markupsafe>=2.0.1 in /usr/local/lib/python3.10/dist-packages (from pycaret) (2.1.3)\n",
            "Collecting matplotlib<=3.6,>=3.3.0 (from pycaret)\n",
            "  Downloading matplotlib-3.6.0-cp310-cp310-manylinux_2_17_x86_64.manylinux2014_x86_64.whl (11.8 MB)\n",
            "\u001b[2K     \u001b[90m━━━━━━━━━━━━━━━━━━━━━━━━━━━━━━━━━━━━━━━━\u001b[0m \u001b[32m11.8/11.8 MB\u001b[0m \u001b[31m22.4 MB/s\u001b[0m eta \u001b[36m0:00:00\u001b[0m\n",
            "\u001b[?25hRequirement already satisfied: nbformat>=4.2.0 in /usr/local/lib/python3.10/dist-packages (from pycaret) (5.9.2)\n",
            "Requirement already satisfied: numba>=0.55.0 in /usr/local/lib/python3.10/dist-packages (from pycaret) (0.58.1)\n",
            "Requirement already satisfied: numpy<1.27,>=1.21 in /usr/local/lib/python3.10/dist-packages (from pycaret) (1.23.5)\n",
            "Requirement already satisfied: pandas<2.0.0,>=1.3.0 in /usr/local/lib/python3.10/dist-packages (from pycaret) (1.5.3)\n",
            "Collecting plotly-resampler>=0.8.3.1 (from pycaret)\n",
            "  Downloading plotly_resampler-0.9.1-py3-none-any.whl (73 kB)\n",
            "\u001b[2K     \u001b[90m━━━━━━━━━━━━━━━━━━━━━━━━━━━━━━━━━━━━━━━━\u001b[0m \u001b[32m73.4/73.4 kB\u001b[0m \u001b[31m2.8 MB/s\u001b[0m eta \u001b[36m0:00:00\u001b[0m\n",
            "\u001b[?25hRequirement already satisfied: plotly>=5.0.0 in /usr/local/lib/python3.10/dist-packages (from pycaret) (5.15.0)\n",
            "Collecting pmdarima!=1.8.1,<3.0.0,>=1.8.0 (from pycaret)\n",
            "  Downloading pmdarima-2.0.4-cp310-cp310-manylinux_2_17_x86_64.manylinux2014_x86_64.manylinux_2_28_x86_64.whl (2.1 MB)\n",
            "\u001b[2K     \u001b[90m━━━━━━━━━━━━━━━━━━━━━━━━━━━━━━━━━━━━━━━━\u001b[0m \u001b[32m2.1/2.1 MB\u001b[0m \u001b[31m16.0 MB/s\u001b[0m eta \u001b[36m0:00:00\u001b[0m\n",
            "\u001b[?25hRequirement already satisfied: psutil>=5.9.0 in /usr/local/lib/python3.10/dist-packages (from pycaret) (5.9.5)\n",
            "Collecting pyod>=1.0.8 (from pycaret)\n",
            "  Downloading pyod-1.1.2.tar.gz (160 kB)\n",
            "\u001b[2K     \u001b[90m━━━━━━━━━━━━━━━━━━━━━━━━━━━━━━━━━━━━━━━━\u001b[0m \u001b[32m160.5/160.5 kB\u001b[0m \u001b[31m8.4 MB/s\u001b[0m eta \u001b[36m0:00:00\u001b[0m\n",
            "\u001b[?25h  Preparing metadata (setup.py) ... \u001b[?25l\u001b[?25hdone\n",
            "Requirement already satisfied: requests>=2.27.1 in /usr/local/lib/python3.10/dist-packages (from pycaret) (2.31.0)\n",
            "Collecting schemdraw==0.15 (from pycaret)\n",
            "  Downloading schemdraw-0.15-py3-none-any.whl (106 kB)\n",
            "\u001b[2K     \u001b[90m━━━━━━━━━━━━━━━━━━━━━━━━━━━━━━━━━━━━━━━━\u001b[0m \u001b[32m106.8/106.8 kB\u001b[0m \u001b[31m5.5 MB/s\u001b[0m eta \u001b[36m0:00:00\u001b[0m\n",
            "\u001b[?25hRequirement already satisfied: scikit-learn<1.3.0,>=1.0 in /usr/local/lib/python3.10/dist-packages (from pycaret) (1.2.2)\n",
            "Collecting scikit-plot>=0.3.7 (from pycaret)\n",
            "  Downloading scikit_plot-0.3.7-py3-none-any.whl (33 kB)\n",
            "Collecting scipy~=1.10.1 (from pycaret)\n",
            "  Downloading scipy-1.10.1-cp310-cp310-manylinux_2_17_x86_64.manylinux2014_x86_64.whl (34.4 MB)\n",
            "\u001b[2K     \u001b[90m━━━━━━━━━━━━━━━━━━━━━━━━━━━━━━━━━━━━━━━━\u001b[0m \u001b[32m34.4/34.4 MB\u001b[0m \u001b[31m7.1 MB/s\u001b[0m eta \u001b[36m0:00:00\u001b[0m\n",
            "\u001b[?25hCollecting sktime!=0.17.1,!=0.17.2,!=0.18.0,<0.22.0,>=0.16.1 (from pycaret)\n",
            "  Downloading sktime-0.21.1-py3-none-any.whl (17.1 MB)\n",
            "\u001b[2K     \u001b[90m━━━━━━━━━━━━━━━━━━━━━━━━━━━━━━━━━━━━━━━━\u001b[0m \u001b[32m17.1/17.1 MB\u001b[0m \u001b[31m36.4 MB/s\u001b[0m eta \u001b[36m0:00:00\u001b[0m\n",
            "\u001b[?25hRequirement already satisfied: statsmodels>=0.12.1 in /usr/local/lib/python3.10/dist-packages (from pycaret) (0.14.1)\n",
            "Collecting tbats>=1.1.3 (from pycaret)\n",
            "  Downloading tbats-1.1.3-py3-none-any.whl (44 kB)\n",
            "\u001b[2K     \u001b[90m━━━━━━━━━━━━━━━━━━━━━━━━━━━━━━━━━━━━━━━━\u001b[0m \u001b[32m44.0/44.0 kB\u001b[0m \u001b[31m2.9 MB/s\u001b[0m eta \u001b[36m0:00:00\u001b[0m\n",
            "\u001b[?25hRequirement already satisfied: tqdm>=4.62.0 in /usr/local/lib/python3.10/dist-packages (from pycaret) (4.66.1)\n",
            "Requirement already satisfied: xxhash in /usr/local/lib/python3.10/dist-packages (from pycaret) (3.4.1)\n",
            "Requirement already satisfied: yellowbrick>=1.4 in /usr/local/lib/python3.10/dist-packages (from pycaret) (1.5)\n",
            "Collecting wurlitzer (from pycaret)\n",
            "  Downloading wurlitzer-3.0.3-py3-none-any.whl (7.3 kB)\n",
            "Requirement already satisfied: patsy>=0.5.1 in /usr/local/lib/python3.10/dist-packages (from category-encoders>=2.4.0->pycaret) (0.5.4)\n",
            "Requirement already satisfied: packaging in /usr/local/lib/python3.10/dist-packages (from deprecation>=2.1.0->pycaret) (23.2)\n",
            "Requirement already satisfied: threadpoolctl>=2.0.0 in /usr/local/lib/python3.10/dist-packages (from imbalanced-learn>=0.8.1->pycaret) (3.2.0)\n",
            "Requirement already satisfied: zipp>=0.5 in /usr/local/lib/python3.10/dist-packages (from importlib-metadata>=4.12.0->pycaret) (3.17.0)\n",
            "Requirement already satisfied: setuptools>=18.5 in /usr/local/lib/python3.10/dist-packages (from ipython>=5.5.0->pycaret) (67.7.2)\n",
            "Collecting jedi>=0.16 (from ipython>=5.5.0->pycaret)\n",
            "  Downloading jedi-0.19.1-py2.py3-none-any.whl (1.6 MB)\n",
            "\u001b[2K     \u001b[90m━━━━━━━━━━━━━━━━━━━━━━━━━━━━━━━━━━━━━━━━\u001b[0m \u001b[32m1.6/1.6 MB\u001b[0m \u001b[31m48.7 MB/s\u001b[0m eta \u001b[36m0:00:00\u001b[0m\n",
            "\u001b[?25hRequirement already satisfied: decorator in /usr/local/lib/python3.10/dist-packages (from ipython>=5.5.0->pycaret) (4.4.2)\n",
            "Requirement already satisfied: pickleshare in /usr/local/lib/python3.10/dist-packages (from ipython>=5.5.0->pycaret) (0.7.5)\n",
            "Requirement already satisfied: traitlets>=4.2 in /usr/local/lib/python3.10/dist-packages (from ipython>=5.5.0->pycaret) (5.7.1)\n",
            "Requirement already satisfied: prompt-toolkit!=3.0.0,!=3.0.1,<3.1.0,>=2.0.0 in /usr/local/lib/python3.10/dist-packages (from ipython>=5.5.0->pycaret) (3.0.43)\n",
            "Requirement already satisfied: pygments in /usr/local/lib/python3.10/dist-packages (from ipython>=5.5.0->pycaret) (2.16.1)\n",
            "Requirement already satisfied: backcall in /usr/local/lib/python3.10/dist-packages (from ipython>=5.5.0->pycaret) (0.2.0)\n",
            "Requirement already satisfied: matplotlib-inline in /usr/local/lib/python3.10/dist-packages (from ipython>=5.5.0->pycaret) (0.1.6)\n",
            "Requirement already satisfied: pexpect>4.3 in /usr/local/lib/python3.10/dist-packages (from ipython>=5.5.0->pycaret) (4.9.0)\n",
            "Requirement already satisfied: ipykernel>=4.5.1 in /usr/local/lib/python3.10/dist-packages (from ipywidgets>=7.6.5->pycaret) (5.5.6)\n",
            "Requirement already satisfied: ipython-genutils~=0.2.0 in /usr/local/lib/python3.10/dist-packages (from ipywidgets>=7.6.5->pycaret) (0.2.0)\n",
            "Requirement already satisfied: widgetsnbextension~=3.6.0 in /usr/local/lib/python3.10/dist-packages (from ipywidgets>=7.6.5->pycaret) (3.6.6)\n",
            "Requirement already satisfied: jupyterlab-widgets>=1.0.0 in /usr/local/lib/python3.10/dist-packages (from ipywidgets>=7.6.5->pycaret) (3.0.9)\n",
            "Requirement already satisfied: contourpy>=1.0.1 in /usr/local/lib/python3.10/dist-packages (from matplotlib<=3.6,>=3.3.0->pycaret) (1.2.0)\n",
            "Requirement already satisfied: cycler>=0.10 in /usr/local/lib/python3.10/dist-packages (from matplotlib<=3.6,>=3.3.0->pycaret) (0.12.1)\n",
            "Requirement already satisfied: fonttools>=4.22.0 in /usr/local/lib/python3.10/dist-packages (from matplotlib<=3.6,>=3.3.0->pycaret) (4.46.0)\n",
            "Requirement already satisfied: kiwisolver>=1.0.1 in /usr/local/lib/python3.10/dist-packages (from matplotlib<=3.6,>=3.3.0->pycaret) (1.4.5)\n",
            "Requirement already satisfied: pillow>=6.2.0 in /usr/local/lib/python3.10/dist-packages (from matplotlib<=3.6,>=3.3.0->pycaret) (9.4.0)\n",
            "Requirement already satisfied: pyparsing>=2.2.1 in /usr/local/lib/python3.10/dist-packages (from matplotlib<=3.6,>=3.3.0->pycaret) (3.1.1)\n",
            "Requirement already satisfied: python-dateutil>=2.7 in /usr/local/lib/python3.10/dist-packages (from matplotlib<=3.6,>=3.3.0->pycaret) (2.8.2)\n",
            "Requirement already satisfied: fastjsonschema in /usr/local/lib/python3.10/dist-packages (from nbformat>=4.2.0->pycaret) (2.19.0)\n",
            "Requirement already satisfied: jsonschema>=2.6 in /usr/local/lib/python3.10/dist-packages (from nbformat>=4.2.0->pycaret) (4.19.2)\n",
            "Requirement already satisfied: jupyter-core in /usr/local/lib/python3.10/dist-packages (from nbformat>=4.2.0->pycaret) (5.5.1)\n",
            "Requirement already satisfied: llvmlite<0.42,>=0.41.0dev0 in /usr/local/lib/python3.10/dist-packages (from numba>=0.55.0->pycaret) (0.41.1)\n",
            "Requirement already satisfied: pytz>=2020.1 in /usr/local/lib/python3.10/dist-packages (from pandas<2.0.0,>=1.3.0->pycaret) (2023.3.post1)\n",
            "Requirement already satisfied: tenacity>=6.2.0 in /usr/local/lib/python3.10/dist-packages (from plotly>=5.0.0->pycaret) (8.2.3)\n",
            "Collecting dash<3.0.0,>=2.11.0 (from plotly-resampler>=0.8.3.1->pycaret)\n",
            "  Downloading dash-2.14.2-py3-none-any.whl (10.2 MB)\n",
            "\u001b[2K     \u001b[90m━━━━━━━━━━━━━━━━━━━━━━━━━━━━━━━━━━━━━━━━\u001b[0m \u001b[32m10.2/10.2 MB\u001b[0m \u001b[31m44.0 MB/s\u001b[0m eta \u001b[36m0:00:00\u001b[0m\n",
            "\u001b[?25hCollecting orjson<4.0.0,>=3.8.0 (from plotly-resampler>=0.8.3.1->pycaret)\n",
            "  Downloading orjson-3.9.10-cp310-cp310-manylinux_2_17_x86_64.manylinux2014_x86_64.whl (138 kB)\n",
            "\u001b[2K     \u001b[90m━━━━━━━━━━━━━━━━━━━━━━━━━━━━━━━━━━━━━━━━\u001b[0m \u001b[32m138.7/138.7 kB\u001b[0m \u001b[31m4.9 MB/s\u001b[0m eta \u001b[36m0:00:00\u001b[0m\n",
            "\u001b[?25hCollecting trace-updater>=0.0.8 (from plotly-resampler>=0.8.3.1->pycaret)\n",
            "  Downloading trace_updater-0.0.9.1-py3-none-any.whl (185 kB)\n",
            "\u001b[2K     \u001b[90m━━━━━━━━━━━━━━━━━━━━━━━━━━━━━━━━━━━━━━━━\u001b[0m \u001b[32m185.2/185.2 kB\u001b[0m \u001b[31m13.6 MB/s\u001b[0m eta \u001b[36m0:00:00\u001b[0m\n",
            "\u001b[?25hCollecting tsdownsample==0.1.2 (from plotly-resampler>=0.8.3.1->pycaret)\n",
            "  Downloading tsdownsample-0.1.2-cp310-cp310-manylinux_2_17_x86_64.manylinux2014_x86_64.whl (2.3 MB)\n",
            "\u001b[2K     \u001b[90m━━━━━━━━━━━━━━━━━━━━━━━━━━━━━━━━━━━━━━━━\u001b[0m \u001b[32m2.3/2.3 MB\u001b[0m \u001b[31m31.7 MB/s\u001b[0m eta \u001b[36m0:00:00\u001b[0m\n",
            "\u001b[?25hRequirement already satisfied: Cython!=0.29.18,!=0.29.31,>=0.29 in /usr/local/lib/python3.10/dist-packages (from pmdarima!=1.8.1,<3.0.0,>=1.8.0->pycaret) (3.0.6)\n",
            "Requirement already satisfied: urllib3 in /usr/local/lib/python3.10/dist-packages (from pmdarima!=1.8.1,<3.0.0,>=1.8.0->pycaret) (2.0.7)\n",
            "Requirement already satisfied: six in /usr/local/lib/python3.10/dist-packages (from pyod>=1.0.8->pycaret) (1.16.0)\n",
            "Requirement already satisfied: charset-normalizer<4,>=2 in /usr/local/lib/python3.10/dist-packages (from requests>=2.27.1->pycaret) (3.3.2)\n",
            "Requirement already satisfied: idna<4,>=2.5 in /usr/local/lib/python3.10/dist-packages (from requests>=2.27.1->pycaret) (3.6)\n",
            "Requirement already satisfied: certifi>=2017.4.17 in /usr/local/lib/python3.10/dist-packages (from requests>=2.27.1->pycaret) (2023.11.17)\n",
            "Collecting deprecated>=1.2.13 (from sktime!=0.17.1,!=0.17.2,!=0.18.0,<0.22.0,>=0.16.1->pycaret)\n",
            "  Downloading Deprecated-1.2.14-py2.py3-none-any.whl (9.6 kB)\n",
            "Collecting scikit-base<0.6.0 (from sktime!=0.17.1,!=0.17.2,!=0.18.0,<0.22.0,>=0.16.1->pycaret)\n",
            "  Downloading scikit_base-0.5.2-py3-none-any.whl (118 kB)\n",
            "\u001b[2K     \u001b[90m━━━━━━━━━━━━━━━━━━━━━━━━━━━━━━━━━━━━━━━━\u001b[0m \u001b[32m119.0/119.0 kB\u001b[0m \u001b[31m7.5 MB/s\u001b[0m eta \u001b[36m0:00:00\u001b[0m\n",
            "\u001b[?25hRequirement already satisfied: Flask<3.1,>=1.0.4 in /usr/local/lib/python3.10/dist-packages (from dash<3.0.0,>=2.11.0->plotly-resampler>=0.8.3.1->pycaret) (2.2.5)\n",
            "Requirement already satisfied: Werkzeug<3.1 in /usr/local/lib/python3.10/dist-packages (from dash<3.0.0,>=2.11.0->plotly-resampler>=0.8.3.1->pycaret) (3.0.1)\n",
            "Collecting dash-html-components==2.0.0 (from dash<3.0.0,>=2.11.0->plotly-resampler>=0.8.3.1->pycaret)\n",
            "  Downloading dash_html_components-2.0.0-py3-none-any.whl (4.1 kB)\n",
            "Collecting dash-core-components==2.0.0 (from dash<3.0.0,>=2.11.0->plotly-resampler>=0.8.3.1->pycaret)\n",
            "  Downloading dash_core_components-2.0.0-py3-none-any.whl (3.8 kB)\n",
            "Collecting dash-table==5.0.0 (from dash<3.0.0,>=2.11.0->plotly-resampler>=0.8.3.1->pycaret)\n",
            "  Downloading dash_table-5.0.0-py3-none-any.whl (3.9 kB)\n",
            "Requirement already satisfied: typing-extensions>=4.1.1 in /usr/local/lib/python3.10/dist-packages (from dash<3.0.0,>=2.11.0->plotly-resampler>=0.8.3.1->pycaret) (4.5.0)\n",
            "Collecting retrying (from dash<3.0.0,>=2.11.0->plotly-resampler>=0.8.3.1->pycaret)\n",
            "  Downloading retrying-1.3.4-py3-none-any.whl (11 kB)\n",
            "Collecting ansi2html (from dash<3.0.0,>=2.11.0->plotly-resampler>=0.8.3.1->pycaret)\n",
            "  Downloading ansi2html-1.9.1-py3-none-any.whl (17 kB)\n",
            "Requirement already satisfied: nest-asyncio in /usr/local/lib/python3.10/dist-packages (from dash<3.0.0,>=2.11.0->plotly-resampler>=0.8.3.1->pycaret) (1.5.8)\n",
            "Requirement already satisfied: wrapt<2,>=1.10 in /usr/local/lib/python3.10/dist-packages (from deprecated>=1.2.13->sktime!=0.17.1,!=0.17.2,!=0.18.0,<0.22.0,>=0.16.1->pycaret) (1.14.1)\n",
            "Requirement already satisfied: jupyter-client in /usr/local/lib/python3.10/dist-packages (from ipykernel>=4.5.1->ipywidgets>=7.6.5->pycaret) (6.1.12)\n",
            "Requirement already satisfied: tornado>=4.2 in /usr/local/lib/python3.10/dist-packages (from ipykernel>=4.5.1->ipywidgets>=7.6.5->pycaret) (6.3.2)\n",
            "Requirement already satisfied: parso<0.9.0,>=0.8.3 in /usr/local/lib/python3.10/dist-packages (from jedi>=0.16->ipython>=5.5.0->pycaret) (0.8.3)\n",
            "Requirement already satisfied: attrs>=22.2.0 in /usr/local/lib/python3.10/dist-packages (from jsonschema>=2.6->nbformat>=4.2.0->pycaret) (23.1.0)\n",
            "Requirement already satisfied: jsonschema-specifications>=2023.03.6 in /usr/local/lib/python3.10/dist-packages (from jsonschema>=2.6->nbformat>=4.2.0->pycaret) (2023.11.2)\n",
            "Requirement already satisfied: referencing>=0.28.4 in /usr/local/lib/python3.10/dist-packages (from jsonschema>=2.6->nbformat>=4.2.0->pycaret) (0.32.0)\n",
            "Requirement already satisfied: rpds-py>=0.7.1 in /usr/local/lib/python3.10/dist-packages (from jsonschema>=2.6->nbformat>=4.2.0->pycaret) (0.15.2)\n",
            "Requirement already satisfied: ptyprocess>=0.5 in /usr/local/lib/python3.10/dist-packages (from pexpect>4.3->ipython>=5.5.0->pycaret) (0.7.0)\n",
            "Requirement already satisfied: wcwidth in /usr/local/lib/python3.10/dist-packages (from prompt-toolkit!=3.0.0,!=3.0.1,<3.1.0,>=2.0.0->ipython>=5.5.0->pycaret) (0.2.12)\n",
            "Requirement already satisfied: notebook>=4.4.1 in /usr/local/lib/python3.10/dist-packages (from widgetsnbextension~=3.6.0->ipywidgets>=7.6.5->pycaret) (6.5.5)\n",
            "Requirement already satisfied: platformdirs>=2.5 in /usr/local/lib/python3.10/dist-packages (from jupyter-core->nbformat>=4.2.0->pycaret) (4.1.0)\n",
            "Requirement already satisfied: itsdangerous>=2.0 in /usr/local/lib/python3.10/dist-packages (from Flask<3.1,>=1.0.4->dash<3.0.0,>=2.11.0->plotly-resampler>=0.8.3.1->pycaret) (2.1.2)\n",
            "Requirement already satisfied: click>=8.0 in /usr/local/lib/python3.10/dist-packages (from Flask<3.1,>=1.0.4->dash<3.0.0,>=2.11.0->plotly-resampler>=0.8.3.1->pycaret) (8.1.7)\n",
            "Requirement already satisfied: pyzmq<25,>=17 in /usr/local/lib/python3.10/dist-packages (from notebook>=4.4.1->widgetsnbextension~=3.6.0->ipywidgets>=7.6.5->pycaret) (23.2.1)\n",
            "Requirement already satisfied: argon2-cffi in /usr/local/lib/python3.10/dist-packages (from notebook>=4.4.1->widgetsnbextension~=3.6.0->ipywidgets>=7.6.5->pycaret) (23.1.0)\n",
            "Requirement already satisfied: nbconvert>=5 in /usr/local/lib/python3.10/dist-packages (from notebook>=4.4.1->widgetsnbextension~=3.6.0->ipywidgets>=7.6.5->pycaret) (6.5.4)\n",
            "Requirement already satisfied: Send2Trash>=1.8.0 in /usr/local/lib/python3.10/dist-packages (from notebook>=4.4.1->widgetsnbextension~=3.6.0->ipywidgets>=7.6.5->pycaret) (1.8.2)\n",
            "Requirement already satisfied: terminado>=0.8.3 in /usr/local/lib/python3.10/dist-packages (from notebook>=4.4.1->widgetsnbextension~=3.6.0->ipywidgets>=7.6.5->pycaret) (0.18.0)\n",
            "Requirement already satisfied: prometheus-client in /usr/local/lib/python3.10/dist-packages (from notebook>=4.4.1->widgetsnbextension~=3.6.0->ipywidgets>=7.6.5->pycaret) (0.19.0)\n",
            "Requirement already satisfied: nbclassic>=0.4.7 in /usr/local/lib/python3.10/dist-packages (from notebook>=4.4.1->widgetsnbextension~=3.6.0->ipywidgets>=7.6.5->pycaret) (1.0.0)\n",
            "Requirement already satisfied: jupyter-server>=1.8 in /usr/local/lib/python3.10/dist-packages (from nbclassic>=0.4.7->notebook>=4.4.1->widgetsnbextension~=3.6.0->ipywidgets>=7.6.5->pycaret) (1.24.0)\n",
            "Requirement already satisfied: notebook-shim>=0.2.3 in /usr/local/lib/python3.10/dist-packages (from nbclassic>=0.4.7->notebook>=4.4.1->widgetsnbextension~=3.6.0->ipywidgets>=7.6.5->pycaret) (0.2.3)\n",
            "Requirement already satisfied: lxml in /usr/local/lib/python3.10/dist-packages (from nbconvert>=5->notebook>=4.4.1->widgetsnbextension~=3.6.0->ipywidgets>=7.6.5->pycaret) (4.9.3)\n",
            "Requirement already satisfied: beautifulsoup4 in /usr/local/lib/python3.10/dist-packages (from nbconvert>=5->notebook>=4.4.1->widgetsnbextension~=3.6.0->ipywidgets>=7.6.5->pycaret) (4.11.2)\n",
            "Requirement already satisfied: bleach in /usr/local/lib/python3.10/dist-packages (from nbconvert>=5->notebook>=4.4.1->widgetsnbextension~=3.6.0->ipywidgets>=7.6.5->pycaret) (6.1.0)\n",
            "Requirement already satisfied: defusedxml in /usr/local/lib/python3.10/dist-packages (from nbconvert>=5->notebook>=4.4.1->widgetsnbextension~=3.6.0->ipywidgets>=7.6.5->pycaret) (0.7.1)\n",
            "Requirement already satisfied: entrypoints>=0.2.2 in /usr/local/lib/python3.10/dist-packages (from nbconvert>=5->notebook>=4.4.1->widgetsnbextension~=3.6.0->ipywidgets>=7.6.5->pycaret) (0.4)\n",
            "Requirement already satisfied: jupyterlab-pygments in /usr/local/lib/python3.10/dist-packages (from nbconvert>=5->notebook>=4.4.1->widgetsnbextension~=3.6.0->ipywidgets>=7.6.5->pycaret) (0.3.0)\n",
            "Requirement already satisfied: mistune<2,>=0.8.1 in /usr/local/lib/python3.10/dist-packages (from nbconvert>=5->notebook>=4.4.1->widgetsnbextension~=3.6.0->ipywidgets>=7.6.5->pycaret) (0.8.4)\n",
            "Requirement already satisfied: nbclient>=0.5.0 in /usr/local/lib/python3.10/dist-packages (from nbconvert>=5->notebook>=4.4.1->widgetsnbextension~=3.6.0->ipywidgets>=7.6.5->pycaret) (0.9.0)\n",
            "Requirement already satisfied: pandocfilters>=1.4.1 in /usr/local/lib/python3.10/dist-packages (from nbconvert>=5->notebook>=4.4.1->widgetsnbextension~=3.6.0->ipywidgets>=7.6.5->pycaret) (1.5.0)\n",
            "Requirement already satisfied: tinycss2 in /usr/local/lib/python3.10/dist-packages (from nbconvert>=5->notebook>=4.4.1->widgetsnbextension~=3.6.0->ipywidgets>=7.6.5->pycaret) (1.2.1)\n",
            "Requirement already satisfied: argon2-cffi-bindings in /usr/local/lib/python3.10/dist-packages (from argon2-cffi->notebook>=4.4.1->widgetsnbextension~=3.6.0->ipywidgets>=7.6.5->pycaret) (21.2.0)\n",
            "Requirement already satisfied: anyio<4,>=3.1.0 in /usr/local/lib/python3.10/dist-packages (from jupyter-server>=1.8->nbclassic>=0.4.7->notebook>=4.4.1->widgetsnbextension~=3.6.0->ipywidgets>=7.6.5->pycaret) (3.7.1)\n",
            "Requirement already satisfied: websocket-client in /usr/local/lib/python3.10/dist-packages (from jupyter-server>=1.8->nbclassic>=0.4.7->notebook>=4.4.1->widgetsnbextension~=3.6.0->ipywidgets>=7.6.5->pycaret) (1.7.0)\n",
            "Requirement already satisfied: cffi>=1.0.1 in /usr/local/lib/python3.10/dist-packages (from argon2-cffi-bindings->argon2-cffi->notebook>=4.4.1->widgetsnbextension~=3.6.0->ipywidgets>=7.6.5->pycaret) (1.16.0)\n",
            "Requirement already satisfied: soupsieve>1.2 in /usr/local/lib/python3.10/dist-packages (from beautifulsoup4->nbconvert>=5->notebook>=4.4.1->widgetsnbextension~=3.6.0->ipywidgets>=7.6.5->pycaret) (2.5)\n",
            "Requirement already satisfied: webencodings in /usr/local/lib/python3.10/dist-packages (from bleach->nbconvert>=5->notebook>=4.4.1->widgetsnbextension~=3.6.0->ipywidgets>=7.6.5->pycaret) (0.5.1)\n",
            "Requirement already satisfied: sniffio>=1.1 in /usr/local/lib/python3.10/dist-packages (from anyio<4,>=3.1.0->jupyter-server>=1.8->nbclassic>=0.4.7->notebook>=4.4.1->widgetsnbextension~=3.6.0->ipywidgets>=7.6.5->pycaret) (1.3.0)\n",
            "Requirement already satisfied: exceptiongroup in /usr/local/lib/python3.10/dist-packages (from anyio<4,>=3.1.0->jupyter-server>=1.8->nbclassic>=0.4.7->notebook>=4.4.1->widgetsnbextension~=3.6.0->ipywidgets>=7.6.5->pycaret) (1.2.0)\n",
            "Requirement already satisfied: pycparser in /usr/local/lib/python3.10/dist-packages (from cffi>=1.0.1->argon2-cffi-bindings->argon2-cffi->notebook>=4.4.1->widgetsnbextension~=3.6.0->ipywidgets>=7.6.5->pycaret) (2.21)\n",
            "Building wheels for collected packages: pyod\n",
            "  Building wheel for pyod (setup.py) ... \u001b[?25l\u001b[?25hdone\n",
            "  Created wheel for pyod: filename=pyod-1.1.2-py3-none-any.whl size=190292 sha256=bca0ce3b7f5a3e3c46a1f094f6a3e1db65310f05b51f1333d49aca0e69b73db4\n",
            "  Stored in directory: /root/.cache/pip/wheels/81/1b/61/aa85b78c3c0c8871f4231e3f4a03bb23cecb7db829498380ee\n",
            "Successfully built pyod\n",
            "Installing collected packages: trace-updater, kaleido, dash-table, dash-html-components, dash-core-components, wurlitzer, tsdownsample, scipy, scikit-base, schemdraw, retrying, orjson, jedi, deprecation, deprecated, ansi2html, matplotlib, sktime, scikit-plot, pyod, dash, pmdarima, plotly-resampler, category-encoders, tbats, pycaret\n",
            "  Attempting uninstall: scipy\n",
            "    Found existing installation: scipy 1.11.4\n",
            "    Uninstalling scipy-1.11.4:\n",
            "      Successfully uninstalled scipy-1.11.4\n",
            "  Attempting uninstall: matplotlib\n",
            "    Found existing installation: matplotlib 3.7.1\n",
            "    Uninstalling matplotlib-3.7.1:\n",
            "      Successfully uninstalled matplotlib-3.7.1\n",
            "\u001b[31mERROR: pip's dependency resolver does not currently take into account all the packages that are installed. This behaviour is the source of the following dependency conflicts.\n",
            "lida 0.0.10 requires fastapi, which is not installed.\n",
            "lida 0.0.10 requires python-multipart, which is not installed.\n",
            "lida 0.0.10 requires uvicorn, which is not installed.\u001b[0m\u001b[31m\n",
            "\u001b[0mSuccessfully installed ansi2html-1.9.1 category-encoders-2.6.3 dash-2.14.2 dash-core-components-2.0.0 dash-html-components-2.0.0 dash-table-5.0.0 deprecated-1.2.14 deprecation-2.1.0 jedi-0.19.1 kaleido-0.2.1 matplotlib-3.6.0 orjson-3.9.10 plotly-resampler-0.9.1 pmdarima-2.0.4 pycaret-3.2.0 pyod-1.1.2 retrying-1.3.4 schemdraw-0.15 scikit-base-0.5.2 scikit-plot-0.3.7 scipy-1.10.1 sktime-0.21.1 tbats-1.1.3 trace-updater-0.0.9.1 tsdownsample-0.1.2 wurlitzer-3.0.3\n"
          ]
        },
        {
          "output_type": "display_data",
          "data": {
            "application/vnd.colab-display-data+json": {
              "pip_warning": {
                "packages": [
                  "matplotlib",
                  "mpl_toolkits"
                ]
              }
            }
          },
          "metadata": {}
        }
      ]
    },
    {
      "cell_type": "code",
      "metadata": {
        "id": "7LfnpwSS9nue"
      },
      "source": [
        "import pycaret\n",
        "import pandas as pd\n",
        "import numpy as np\n",
        "import matplotlib.pyplot as plt\n",
        "from pycaret.classification import *"
      ],
      "execution_count": 50,
      "outputs": []
    },
    {
      "cell_type": "code",
      "metadata": {
        "colab": {
          "base_uri": "https://localhost:8080/"
        },
        "id": "ZunbzPVa9a6g",
        "outputId": "e4fdb8d7-6672-4ca9-b25a-dd727ae4c7a3"
      },
      "source": [
        "# define the location of the dataset\n",
        "url = 'https://raw.githubusercontent.com/kdemertzis/EKPA/main/Data/dga_domain.csv'\n",
        "# load the dataset\n",
        "df = pd.read_csv(url)\n",
        "# summarize the shape of the dataset\n",
        "print(df.shape)"
      ],
      "execution_count": 51,
      "outputs": [
        {
          "output_type": "stream",
          "name": "stdout",
          "text": [
            "(117588, 6)\n"
          ]
        }
      ]
    },
    {
      "cell_type": "code",
      "source": [
        "#shuffle data\n",
        "df = df.sample(frac = 1)\n",
        "print(df.head())"
      ],
      "metadata": {
        "id": "DCynJDtpYx8z",
        "outputId": "2f3d8ec0-6e52-4f88-c543-f16351b25cf2",
        "colab": {
          "base_uri": "https://localhost:8080/"
        }
      },
      "execution_count": 52,
      "outputs": [
        {
          "output_type": "stream",
          "name": "stdout",
          "text": [
            "        length   entropy   alexa_grams   word_grams       diff  class\n",
            "113686      15  3.506891     15.786838    19.769257  -3.982419    dga\n",
            "109989      14  3.324863     14.976143    18.607410  -3.631267    dga\n",
            "72485       10  2.921928     49.502424    67.685361 -18.182937  legit\n",
            "115694      19  3.321104     13.296712    19.081618  -5.784906    dga\n",
            "71212        4  2.000000      5.610341     7.716167  -2.105826  legit\n"
          ]
        }
      ]
    },
    {
      "cell_type": "code",
      "metadata": {
        "id": "J6y3Zhq2-EZ8"
      },
      "source": [
        "# setup the dataset\n",
        "grid = setup(data=df, target=df.columns[-1], html=False, verbose=False)"
      ],
      "execution_count": 53,
      "outputs": []
    },
    {
      "cell_type": "code",
      "metadata": {
        "colab": {
          "base_uri": "https://localhost:8080/"
        },
        "id": "ZGJ7kigzA1Rf",
        "outputId": "7507f9a3-b80a-4fcb-e208-f56c6f731ae0"
      },
      "source": [
        "best = compare_models(cross_validation=False, n_select = 1)\n",
        "%load_ext tensorboard"
      ],
      "execution_count": 54,
      "outputs": [
        {
          "output_type": "stream",
          "name": "stderr",
          "text": [
            "                                                           "
          ]
        },
        {
          "output_type": "stream",
          "name": "stdout",
          "text": [
            "                                    Model  Accuracy     AUC  Recall   Prec.  \\\n",
            "lightgbm  Light Gradient Boosting Machine    0.8890  0.9095  0.8890  0.8897   \n",
            "gbc          Gradient Boosting Classifier    0.8878  0.9075  0.8878  0.8886   \n",
            "xgboost         Extreme Gradient Boosting    0.8877  0.9085  0.8877  0.8874   \n",
            "rf               Random Forest Classifier    0.8818  0.8950  0.8818  0.8780   \n",
            "lr                    Logistic Regression    0.8753  0.8760  0.8753  0.8735   \n",
            "knn                K Neighbors Classifier    0.8747  0.8672  0.8747  0.8698   \n",
            "et                 Extra Trees Classifier    0.8718  0.8875  0.8718  0.8664   \n",
            "svm                   SVM - Linear Kernel    0.8612  0.0000  0.8612  0.8769   \n",
            "lda          Linear Discriminant Analysis    0.8500  0.8598  0.8500  0.8543   \n",
            "qda       Quadratic Discriminant Analysis    0.8480  0.8792  0.8480  0.8479   \n",
            "ridge                    Ridge Classifier    0.8330  0.0000  0.8330  0.8445   \n",
            "dt               Decision Tree Classifier    0.8283  0.7894  0.8283  0.8300   \n",
            "nb                            Naive Bayes    0.7678  0.7796  0.7678  0.7423   \n",
            "ada                  Ada Boost Classifier    0.7678  0.5773  0.7678  0.6534   \n",
            "dummy                    Dummy Classifier    0.7342  0.0000  0.7342  0.5391   \n",
            "\n",
            "              F1   Kappa     MCC  TT (Sec)  \n",
            "lightgbm  0.8803  0.6990  0.7162      1.55  \n",
            "gbc       0.8785  0.6950  0.7133     60.36  \n",
            "xgboost   0.8793  0.6968  0.7124      2.25  \n",
            "rf        0.8750  0.6868  0.6963     25.45  \n",
            "lr        0.8662  0.6630  0.6781      7.27  \n",
            "knn       0.8678  0.6692  0.6777      0.15  \n",
            "et        0.8666  0.6672  0.6721      6.03  \n",
            "svm       0.8414  0.5948  0.6443      9.94  \n",
            "lda       0.8373  0.5775  0.6041      0.14  \n",
            "qda       0.8455  0.6252  0.6265      0.14  \n",
            "ridge     0.7998  0.4817  0.5463      0.09  \n",
            "dt        0.8291  0.5824  0.5825      0.92  \n",
            "nb        0.7470  0.3749  0.3849      0.07  \n",
            "ada       0.6747  0.2242  0.3379      4.27  \n",
            "dummy     0.6217  0.0000  0.0000      0.05  \n",
            "The tensorboard extension is already loaded. To reload it, use:\n",
            "  %reload_ext tensorboard\n"
          ]
        },
        {
          "output_type": "stream",
          "name": "stderr",
          "text": [
            "\r"
          ]
        }
      ]
    },
    {
      "cell_type": "code",
      "metadata": {
        "colab": {
          "base_uri": "https://localhost:8080/"
        },
        "id": "TorFLtNx-kCm",
        "outputId": "dbf8ce24-3d23-425d-f1ea-4510ad0d15b1"
      },
      "source": [
        "# report the best model\n",
        "print(best)"
      ],
      "execution_count": 55,
      "outputs": [
        {
          "output_type": "stream",
          "name": "stdout",
          "text": [
            "LGBMClassifier(boosting_type='gbdt', class_weight=None, colsample_bytree=1.0,\n",
            "               importance_type='split', learning_rate=0.1, max_depth=-1,\n",
            "               min_child_samples=20, min_child_weight=0.001, min_split_gain=0.0,\n",
            "               n_estimators=100, n_jobs=-1, num_leaves=31, objective=None,\n",
            "               random_state=8865, reg_alpha=0.0, reg_lambda=0.0, subsample=1.0,\n",
            "               subsample_for_bin=200000, subsample_freq=0)\n"
          ]
        }
      ]
    },
    {
      "cell_type": "code",
      "metadata": {
        "id": "XJTnGY38yxrE",
        "outputId": "5e75155e-9da3-447e-fe0d-6af6295e6767",
        "colab": {
          "base_uri": "https://localhost:8080/",
          "height": 638,
          "referenced_widgets": [
            "93e35f66c4f34026be674886166a455c",
            "7dc1a4d4a5d84b96a488dd6c721f8148",
            "e46d92f34021443da58f1a6f167ba831",
            "a7873416c07d4060afce8fca3bf60d4f",
            "307b67afdd1f4ffc94321606aad935c7",
            "90b02461749e447484aca4baa13d66d3",
            "37b9a571c0094851a0c3cad76cc1d01c"
          ]
        }
      },
      "source": [
        "evaluate_model(best)"
      ],
      "execution_count": 56,
      "outputs": [
        {
          "output_type": "display_data",
          "data": {
            "text/plain": [
              "interactive(children=(ToggleButtons(description='Plot Type:', icons=('',), options=(('Pipeline Plot', 'pipelin…"
            ],
            "application/vnd.jupyter.widget-view+json": {
              "version_major": 2,
              "version_minor": 0,
              "model_id": "93e35f66c4f34026be674886166a455c"
            }
          },
          "metadata": {
            "application/vnd.jupyter.widget-view+json": {
              "colab": {
                "custom_widget_manager": {
                  "url": "https://ssl.gstatic.com/colaboratory-static/widgets/colab-cdn-widget-manager/b3e629b1971e1542/manager.min.js"
                }
              }
            }
          }
        }
      ]
    }
  ]
}